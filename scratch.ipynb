{
 "cells": [
  {
   "cell_type": "code",
   "execution_count": 66,
   "id": "66d089a8",
   "metadata": {},
   "outputs": [
    {
     "data": {
      "text/plain": [
       "<module 'songpipe' from '/mnt/c/Users/rntr/Repositories/songpipe/songpipe.py'>"
      ]
     },
     "execution_count": 66,
     "metadata": {},
     "output_type": "execute_result"
    }
   ],
   "source": [
    "from importlib import reload\n",
    "from os.path import join\n",
    "from glob import glob\n",
    "import numpy as np\n",
    "import matplotlib.pyplot as plt\n",
    "from tqdm import tqdm\n",
    "\n",
    "import songpipe\n",
    "reload(songpipe)"
   ]
  },
  {
   "cell_type": "code",
   "execution_count": 67,
   "id": "811e1c11",
   "metadata": {
    "scrolled": false
   },
   "outputs": [],
   "source": [
    "# Calibration procedure:\n",
    "# - Master bias (high and low)\n",
    "# - Master darks (high and low)\n",
    "# - Subtract bias/dark, apply gain, and merge high+low\n",
    "# - Save frames and pass on to pyReduce"
   ]
  },
  {
   "cell_type": "code",
   "execution_count": 71,
   "id": "e22e0391",
   "metadata": {
    "scrolled": false
   },
   "outputs": [
    {
     "name": "stderr",
     "output_type": "stream",
     "text": [
      "100%|█████████████████████████████████████████████████████████████████████████████████| 249/249 [00:06<00:00, 41.12it/s]"
     ]
    },
    {
     "name": "stdout",
     "output_type": "stream",
     "text": [
      "Filename                     Type    Exp    Object     \n",
      "s3_2022-07-02T14-40-28.fits  DARK    10.0   DARK       \n",
      "s3_2022-07-02T14-40-41.fits  DARK    10.0   DARK       \n",
      "s3_2022-07-02T14-40-53.fits  DARK    10.0   DARK       \n",
      "s3_2022-07-02T14-41-06.fits  DARK    10.0   DARK       \n",
      "s3_2022-07-02T14-41-18.fits  DARK    10.0   DARK       \n",
      "s3_2022-07-02T14-41-31.fits  DARK    10.0   DARK       \n",
      "s3_2022-07-02T14-41-44.fits  DARK    10.0   DARK       \n",
      "s3_2022-07-02T14-41-58.fits  DARK    10.0   DARK       \n",
      "s3_2022-07-02T14-42-11.fits  DARK    10.0   DARK       \n",
      "s3_2022-07-02T14-42-24.fits  DARK    10.0   DARK       \n",
      "s3_2022-07-02T14-42-59.fits  DARK    20.0   DARK       \n",
      "s3_2022-07-02T14-43-24.fits  DARK    20.0   DARK       \n",
      "s3_2022-07-02T14-43-46.fits  DARK    20.0   DARK       \n",
      "s3_2022-07-02T14-44-11.fits  DARK    20.0   DARK       \n",
      "s3_2022-07-02T14-44-33.fits  DARK    20.0   DARK       \n",
      "s3_2022-07-02T14-44-56.fits  DARK    20.0   DARK       \n",
      "s3_2022-07-02T14-45-19.fits  DARK    20.0   DARK       \n",
      "s3_2022-07-02T14-45-42.fits  DARK    20.0   DARK       \n",
      "s3_2022-07-02T14-46-05.fits  DARK    20.0   DARK       \n",
      "s3_2022-07-02T14-46-30.fits  DARK    20.0   DARK       \n",
      "s3_2022-07-02T14-47-16.fits  DARK    30.0   DARK       \n",
      "s3_2022-07-02T14-47-49.fits  DARK    30.0   DARK       \n",
      "s3_2022-07-02T14-48-24.fits  DARK    30.0   DARK       \n",
      "s3_2022-07-02T14-48-57.fits  DARK    30.0   DARK       \n",
      "s3_2022-07-02T14-49-30.fits  DARK    30.0   DARK       \n",
      "s3_2022-07-02T14-50-05.fits  DARK    30.0   DARK       \n",
      "s3_2022-07-02T14-50-38.fits  DARK    30.0   DARK       \n",
      "s3_2022-07-02T14-51-12.fits  DARK    30.0   DARK       \n",
      "s3_2022-07-02T14-51-45.fits  DARK    30.0   DARK       \n",
      "s3_2022-07-02T14-52-19.fits  DARK    30.0   DARK       \n",
      "s3_2022-07-02T14-53-13.fits  DARK    60.0   DARK       \n",
      "s3_2022-07-02T14-54-16.fits  DARK    60.0   DARK       \n",
      "s3_2022-07-02T14-55-19.fits  DARK    60.0   DARK       \n",
      "s3_2022-07-02T14-56-24.fits  DARK    60.0   DARK       \n",
      "s3_2022-07-02T14-57-27.fits  DARK    60.0   DARK       \n",
      "s3_2022-07-02T14-58-31.fits  DARK    60.0   DARK       \n",
      "s3_2022-07-02T14-59-34.fits  DARK    60.0   DARK       \n",
      "s3_2022-07-02T15-00-38.fits  DARK    60.0   DARK       \n",
      "s3_2022-07-02T15-01-41.fits  DARK    60.0   DARK       \n",
      "s3_2022-07-02T15-02-46.fits  DARK    60.0   DARK       \n",
      "s3_2022-07-02T15-04-13.fits  DARK    90.0   DARK       \n",
      "s3_2022-07-02T15-05-46.fits  DARK    90.0   DARK       \n",
      "s3_2022-07-02T15-07-20.fits  DARK    90.0   DARK       \n",
      "s3_2022-07-02T15-08-54.fits  DARK    90.0   DARK       \n",
      "s3_2022-07-02T15-10-28.fits  DARK    90.0   DARK       \n",
      "s3_2022-07-02T15-12-03.fits  DARK    90.0   DARK       \n",
      "s3_2022-07-02T15-13-37.fits  DARK    90.0   DARK       \n",
      "s3_2022-07-02T15-15-11.fits  DARK    90.0   DARK       \n",
      "s3_2022-07-02T15-16-44.fits  DARK    90.0   DARK       \n",
      "s3_2022-07-02T15-18-18.fits  DARK    90.0   DARK       \n",
      "s3_2022-07-02T15-20-16.fits  DARK    120.0  DARK       \n",
      "s3_2022-07-02T15-22-21.fits  DARK    120.0  DARK       \n",
      "s3_2022-07-02T15-24-26.fits  DARK    120.0  DARK       \n",
      "s3_2022-07-02T15-26-30.fits  DARK    120.0  DARK       \n",
      "s3_2022-07-02T15-28-34.fits  DARK    120.0  DARK       \n",
      "s3_2022-07-02T15-30-38.fits  DARK    120.0  DARK       \n",
      "s3_2022-07-02T15-32-42.fits  DARK    120.0  DARK       \n",
      "s3_2022-07-02T15-34-46.fits  DARK    120.0  DARK       \n",
      "s3_2022-07-02T15-36-50.fits  DARK    120.0  DARK       \n",
      "s3_2022-07-02T15-38-54.fits  DARK    120.0  DARK       \n",
      "s3_2022-07-02T15-41-22.fits  DARK    180.0  DARK       \n",
      "s3_2022-07-02T15-44-27.fits  DARK    180.0  DARK       \n",
      "s3_2022-07-02T15-47-31.fits  DARK    180.0  DARK       \n",
      "s3_2022-07-02T15-50-35.fits  DARK    180.0  DARK       \n",
      "s3_2022-07-02T15-53-40.fits  DARK    180.0  DARK       \n",
      "s3_2022-07-02T15-56-44.fits  DARK    180.0  DARK       \n",
      "s3_2022-07-02T15-59-48.fits  DARK    180.0  DARK       \n",
      "s3_2022-07-02T16-02-52.fits  DARK    180.0  DARK       \n",
      "s3_2022-07-02T16-05-57.fits  DARK    180.0  DARK       \n",
      "s3_2022-07-02T16-09-01.fits  DARK    180.0  DARK       \n",
      "s3_2022-07-02T16-12-29.fits  DARK    240.0  DARK       \n",
      "s3_2022-07-02T16-16-35.fits  DARK    240.0  DARK       \n",
      "s3_2022-07-02T16-20-39.fits  DARK    240.0  DARK       \n",
      "s3_2022-07-02T16-24-43.fits  DARK    240.0  DARK       \n",
      "s3_2022-07-02T16-28-47.fits  DARK    240.0  DARK       \n",
      "s3_2022-07-02T16-32-51.fits  DARK    240.0  DARK       \n",
      "s3_2022-07-02T16-36-56.fits  DARK    240.0  DARK       \n",
      "s3_2022-07-02T16-41-00.fits  DARK    240.0  DARK       \n",
      "s3_2022-07-02T16-45-05.fits  DARK    240.0  DARK       \n",
      "s3_2022-07-02T16-49-10.fits  DARK    240.0  DARK       \n",
      "s3_2022-07-02T16-54-01.fits  BIAS    0.0    BIAS       \n",
      "s3_2022-07-02T16-54-06.fits  BIAS    0.0    BIAS       \n",
      "s3_2022-07-02T16-54-08.fits  BIAS    0.0    BIAS       \n",
      "s3_2022-07-02T16-54-11.fits  BIAS    0.0    BIAS       \n",
      "s3_2022-07-02T16-54-15.fits  BIAS    0.0    BIAS       \n",
      "s3_2022-07-02T16-54-18.fits  BIAS    0.0    BIAS       \n",
      "s3_2022-07-02T16-54-23.fits  BIAS    0.0    BIAS       \n",
      "s3_2022-07-02T16-54-26.fits  BIAS    0.0    BIAS       \n",
      "s3_2022-07-02T16-54-28.fits  BIAS    0.0    BIAS       \n",
      "s3_2022-07-02T16-54-31.fits  BIAS    0.0    BIAS       \n",
      "s3_2022-07-02T16-55-44.fits  FLAT    2.5    FLATfib1   \n",
      "s3_2022-07-02T16-55-50.fits  FLAT    2.5    FLATfib1   \n",
      "s3_2022-07-02T16-55-55.fits  FLAT    2.5    FLATfib1   \n",
      "s3_2022-07-02T16-56-00.fits  FLAT    2.5    FLATfib1   \n",
      "s3_2022-07-02T16-56-06.fits  FLAT    2.5    FLATfib1   \n",
      "s3_2022-07-02T16-56-12.fits  FLAT    2.5    FLATfib1   \n",
      "s3_2022-07-02T16-56-18.fits  FLAT    2.5    FLATfib1   \n",
      "s3_2022-07-02T16-56-24.fits  FLAT    2.5    FLATfib1   \n",
      "s3_2022-07-02T16-56-29.fits  FLAT    2.5    FLATfib1   \n",
      "s3_2022-07-02T16-56-36.fits  FLAT    2.5    FLATfib1   \n",
      "s3_2022-07-02T16-56-42.fits  FLAT    2.5    FLATfib1   \n",
      "s3_2022-07-02T16-56-47.fits  FLAT    2.5    FLATfib1   \n",
      "s3_2022-07-02T16-56-53.fits  FLAT    2.5    FLATfib1   \n",
      "s3_2022-07-02T16-56-59.fits  FLAT    2.5    FLATfib1   \n",
      "s3_2022-07-02T16-57-04.fits  FLAT    2.5    FLATfib1   \n",
      "s3_2022-07-02T16-57-09.fits  FLAT    2.5    FLATfib1   \n",
      "s3_2022-07-02T16-57-14.fits  FLAT    2.5    FLATfib1   \n",
      "s3_2022-07-02T16-57-20.fits  FLAT    2.5    FLATfib1   \n",
      "s3_2022-07-02T16-57-26.fits  FLAT    2.5    FLATfib1   \n",
      "s3_2022-07-02T16-57-31.fits  FLAT    2.5    FLATfib1   \n",
      "s3_2022-07-02T16-58-02.fits  FLAT    2.5    FLATfib2   \n",
      "s3_2022-07-02T16-58-07.fits  FLAT    2.5    FLATfib2   \n",
      "s3_2022-07-02T16-58-13.fits  FLAT    2.5    FLATfib2   \n",
      "s3_2022-07-02T16-58-20.fits  FLAT    2.5    FLATfib2   \n",
      "s3_2022-07-02T16-58-25.fits  FLAT    2.5    FLATfib2   \n",
      "s3_2022-07-02T16-58-31.fits  FLAT    2.5    FLATfib2   \n",
      "s3_2022-07-02T16-58-36.fits  FLAT    2.5    FLATfib2   \n",
      "s3_2022-07-02T16-58-43.fits  FLAT    2.5    FLATfib2   \n",
      "s3_2022-07-02T16-58-48.fits  FLAT    2.5    FLATfib2   \n",
      "s3_2022-07-02T16-58-53.fits  FLAT    2.5    FLATfib2   \n",
      "s3_2022-07-02T16-58-58.fits  FLAT    2.5    FLATfib2   \n",
      "s3_2022-07-02T16-59-03.fits  FLAT    2.5    FLATfib2   \n",
      "s3_2022-07-02T16-59-08.fits  FLAT    2.5    FLATfib2   \n",
      "s3_2022-07-02T16-59-14.fits  FLAT    2.5    FLATfib2   \n",
      "s3_2022-07-02T16-59-19.fits  FLAT    2.5    FLATfib2   \n",
      "s3_2022-07-02T16-59-26.fits  FLAT    2.5    FLATfib2   \n",
      "s3_2022-07-02T16-59-31.fits  FLAT    2.5    FLATfib2   \n",
      "s3_2022-07-02T16-59-36.fits  FLAT    2.5    FLATfib2   \n",
      "s3_2022-07-02T16-59-41.fits  FLAT    2.5    FLATfib2   \n",
      "s3_2022-07-02T16-59-47.fits  FLAT    2.5    FLATfib2   \n",
      "s3_2022-07-02T17-00-15.fits  FLAT    2.5    FLATfib12  \n",
      "s3_2022-07-02T17-00-22.fits  FLAT    2.5    FLATfib12  \n",
      "s3_2022-07-02T17-00-27.fits  FLAT    2.5    FLATfib12  \n",
      "s3_2022-07-02T17-00-34.fits  FLAT    2.5    FLATfib12  \n",
      "s3_2022-07-02T17-00-40.fits  FLAT    2.5    FLATfib12  \n",
      "s3_2022-07-02T17-00-45.fits  FLAT    2.5    FLATfib12  \n",
      "s3_2022-07-02T17-00-50.fits  FLAT    2.5    FLATfib12  \n",
      "s3_2022-07-02T17-00-56.fits  FLAT    2.5    FLATfib12  \n",
      "s3_2022-07-02T17-01-01.fits  FLAT    2.5    FLATfib12  \n",
      "s3_2022-07-02T17-01-07.fits  FLAT    2.5    FLATfib12  \n",
      "s3_2022-07-02T17-01-12.fits  FLAT    2.5    FLATfib12  \n",
      "s3_2022-07-02T17-01-17.fits  FLAT    2.5    FLATfib12  \n",
      "s3_2022-07-02T17-01-23.fits  FLAT    2.5    FLATfib12  \n",
      "s3_2022-07-02T17-01-28.fits  FLAT    2.5    FLATfib12  \n",
      "s3_2022-07-02T17-01-34.fits  FLAT    2.5    FLATfib12  \n",
      "s3_2022-07-02T17-01-39.fits  FLAT    2.5    FLATfib12  \n",
      "s3_2022-07-02T17-01-45.fits  FLAT    2.5    FLATfib12  \n",
      "s3_2022-07-02T17-01-53.fits  FLAT    2.5    FLATfib12  \n",
      "s3_2022-07-02T17-01-59.fits  FLAT    2.5    FLATfib12  \n",
      "s3_2022-07-02T17-02-05.fits  FLAT    2.5    FLATfib12  \n",
      "s3_2022-07-02T17-03-05.fits  FLATI2  3.0    FLATI2fib12\n",
      "s3_2022-07-02T17-03-11.fits  FLATI2  3.0    FLATI2fib12\n",
      "s3_2022-07-02T17-03-18.fits  FLATI2  3.0    FLATI2fib12\n",
      "s3_2022-07-02T17-03-24.fits  FLATI2  3.0    FLATI2fib12\n",
      "s3_2022-07-02T17-03-30.fits  FLATI2  3.0    FLATI2fib12\n",
      "s3_2022-07-02T17-03-37.fits  FLATI2  3.0    FLATI2fib12\n",
      "s3_2022-07-02T17-03-44.fits  FLATI2  3.0    FLATI2fib12\n",
      "s3_2022-07-02T17-03-52.fits  FLATI2  3.0    FLATI2fib12\n",
      "s3_2022-07-02T17-03-58.fits  FLATI2  3.0    FLATI2fib12\n",
      "s3_2022-07-02T17-04-04.fits  FLATI2  3.0    FLATI2fib12\n",
      "s3_2022-07-02T17-04-11.fits  FLATI2  3.0    FLATI2fib12\n",
      "s3_2022-07-02T17-04-17.fits  FLATI2  3.0    FLATI2fib12\n",
      "s3_2022-07-02T17-04-23.fits  FLATI2  3.0    FLATI2fib12\n",
      "s3_2022-07-02T17-04-28.fits  FLATI2  3.0    FLATI2fib12\n",
      "s3_2022-07-02T17-04-34.fits  FLATI2  3.0    FLATI2fib12\n",
      "s3_2022-07-02T17-04-41.fits  FLATI2  3.0    FLATI2fib12\n",
      "s3_2022-07-02T17-04-47.fits  FLATI2  3.0    FLATI2fib12\n",
      "s3_2022-07-02T17-04-53.fits  FLATI2  3.0    FLATI2fib12\n",
      "s3_2022-07-02T17-05-00.fits  FLATI2  3.0    FLATI2fib12\n",
      "s3_2022-07-02T17-05-07.fits  FLATI2  3.0    FLATI2fib12\n",
      "s3_2022-07-02T17-06-29.fits  DARK    240.0  DARK       \n",
      "s3_2022-07-02T17-10-33.fits  DARK    240.0  DARK       \n",
      "s3_2022-07-02T17-15-41.fits  THAR    240.0  THArfib12  \n",
      "s3_2022-07-02T17-19-47.fits  THAR    240.0  THArfib12  \n",
      "s3_2022-07-02T17-24-24.fits  FP      1.0    FPfib12    \n",
      "s3_2022-07-02T17-24-28.fits  FP      1.0    FPfib12    \n",
      "s3_2022-07-02T17-24-33.fits  FP      1.0    FPfib12    \n",
      "s3_2022-07-02T17-24-37.fits  FP      1.0    FPfib12    \n",
      "s3_2022-07-02T17-24-41.fits  FP      1.0    FPfib12    \n",
      "s3_2022-07-02T17-24-45.fits  FP      1.0    FPfib12    \n",
      "s3_2022-07-02T17-24-48.fits  FP      1.0    FPfib12    \n",
      "s3_2022-07-02T17-24-51.fits  FP      1.0    FPfib12    \n",
      "s3_2022-07-02T17-24-56.fits  FP      1.0    FPfib12    \n",
      "s3_2022-07-02T17-25-01.fits  FP      1.0    FPfib12    \n",
      "s3_2022-07-02T17-26-13.fits  FLAT    0.05   FLATslit   \n",
      "s3_2022-07-02T17-26-16.fits  FLAT    0.05   FLATslit   \n",
      "s3_2022-07-02T17-26-19.fits  FLAT    0.05   FLATslit   \n",
      "s3_2022-07-02T17-26-22.fits  FLAT    0.05   FLATslit   \n",
      "s3_2022-07-02T17-26-26.fits  FLAT    0.05   FLATslit   \n",
      "s3_2022-07-02T17-26-30.fits  FLAT    0.05   FLATslit   \n",
      "s3_2022-07-02T17-26-32.fits  FLAT    0.05   FLATslit   \n",
      "s3_2022-07-02T17-26-36.fits  FLAT    0.05   FLATslit   \n",
      "s3_2022-07-02T17-26-39.fits  FLAT    0.05   FLATslit   \n",
      "s3_2022-07-02T17-26-43.fits  FLAT    0.05   FLATslit   \n",
      "s3_2022-07-02T17-26-46.fits  FLAT    0.05   FLATslit   \n",
      "s3_2022-07-02T17-26-49.fits  FLAT    0.05   FLATslit   \n",
      "s3_2022-07-02T17-26-53.fits  FLAT    0.05   FLATslit   \n",
      "s3_2022-07-02T17-26-55.fits  FLAT    0.05   FLATslit   \n",
      "s3_2022-07-02T17-26-58.fits  FLAT    0.05   FLATslit   \n",
      "s3_2022-07-02T17-27-00.fits  FLAT    0.05   FLATslit   \n",
      "s3_2022-07-02T17-27-03.fits  FLAT    0.05   FLATslit   \n",
      "s3_2022-07-02T17-27-06.fits  FLAT    0.05   FLATslit   \n",
      "s3_2022-07-02T17-27-10.fits  FLAT    0.05   FLATslit   \n",
      "s3_2022-07-02T17-27-13.fits  FLAT    0.05   FLATslit   \n",
      "s3_2022-07-02T17-27-15.fits  FLAT    0.05   FLATslit   \n",
      "s3_2022-07-02T17-27-18.fits  FLAT    0.05   FLATslit   \n",
      "s3_2022-07-02T17-27-20.fits  FLAT    0.05   FLATslit   \n",
      "s3_2022-07-02T17-27-23.fits  FLAT    0.05   FLATslit   \n",
      "s3_2022-07-02T17-27-25.fits  FLAT    0.05   FLATslit   \n",
      "s3_2022-07-02T17-27-28.fits  FLAT    0.05   FLATslit   \n",
      "s3_2022-07-02T17-27-31.fits  FLAT    0.05   FLATslit   \n",
      "s3_2022-07-02T17-27-33.fits  FLAT    0.05   FLATslit   \n",
      "s3_2022-07-02T17-27-36.fits  FLAT    0.05   FLATslit   \n",
      "s3_2022-07-02T17-27-40.fits  FLAT    0.05   FLATslit   \n",
      "s3_2022-07-02T17-27-42.fits  FLAT    0.05   FLATslit   \n",
      "s3_2022-07-02T17-27-44.fits  FLAT    0.05   FLATslit   \n",
      "s3_2022-07-02T17-27-46.fits  FLAT    0.05   FLATslit   \n",
      "s3_2022-07-02T17-27-49.fits  FLAT    0.05   FLATslit   \n",
      "s3_2022-07-02T17-27-53.fits  FLAT    0.05   FLATslit   \n",
      "s3_2022-07-02T17-27-56.fits  FLAT    0.05   FLATslit   \n",
      "s3_2022-07-02T17-27-59.fits  FLAT    0.05   FLATslit   \n",
      "s3_2022-07-02T17-28-03.fits  FLAT    0.05   FLATslit   \n",
      "s3_2022-07-02T17-28-07.fits  FLAT    0.05   FLATslit   \n",
      "s3_2022-07-02T17-28-11.fits  FLAT    0.05   FLATslit   \n",
      "s3_2022-07-02T17-29-12.fits  BIAS    0.0    BIAS       \n",
      "s3_2022-07-02T17-29-15.fits  BIAS    0.0    BIAS       \n",
      "s3_2022-07-02T17-29-18.fits  BIAS    0.0    BIAS       \n",
      "s3_2022-07-02T17-29-21.fits  BIAS    0.0    BIAS       \n",
      "s3_2022-07-02T17-29-23.fits  BIAS    0.0    BIAS       \n",
      "s3_2022-07-02T17-29-25.fits  BIAS    0.0    BIAS       \n",
      "s3_2022-07-02T17-29-28.fits  BIAS    0.0    BIAS       \n",
      "s3_2022-07-02T17-29-32.fits  BIAS    0.0    BIAS       \n",
      "s3_2022-07-02T17-29-34.fits  BIAS    0.0    BIAS       \n",
      "s3_2022-07-02T17-29-38.fits  BIAS    0.0    BIAS       \n",
      "s3_2022-07-02T17-29-41.fits  BIAS    0.0    BIAS       \n",
      "s3_2022-07-02T17-29-44.fits  BIAS    0.0    BIAS       \n",
      "s3_2022-07-02T17-29-46.fits  BIAS    0.0    BIAS       \n",
      "s3_2022-07-02T17-29-49.fits  BIAS    0.0    BIAS       \n",
      "s3_2022-07-02T17-29-52.fits  BIAS    0.0    BIAS       \n",
      "s3_2022-07-02T17-29-54.fits  BIAS    0.0    BIAS       \n",
      "s3_2022-07-02T17-29-57.fits  BIAS    0.0    BIAS       \n",
      "s3_2022-07-02T17-30-00.fits  BIAS    0.0    BIAS       \n",
      "s3_2022-07-02T17-30-04.fits  BIAS    0.0    BIAS       \n",
      "s3_2022-07-02T17-30-09.fits  BIAS    0.0    BIAS       \n",
      "s3_2022-07-02T17-30-13.fits  BIAS    0.0    BIAS       \n",
      "s3_2022-07-02T17-30-18.fits  BIAS    0.0    BIAS       \n",
      "s3_2022-07-02T17-30-21.fits  BIAS    0.0    BIAS       \n",
      "s3_2022-07-02T17-30-24.fits  BIAS    0.0    BIAS       \n",
      "s3_2022-07-02T17-30-29.fits  BIAS    0.0    BIAS       \n"
     ]
    },
    {
     "name": "stderr",
     "output_type": "stream",
     "text": [
      "\n"
     ]
    }
   ],
   "source": [
    "datestr = '20220702'\n",
    "#datestr = '20220624'\n",
    "basedir = '/mnt/c/data/SONG/ssmtkent/'\n",
    "rawdir = join(basedir, 'star_spec', datestr, 'raw')\n",
    "outdir = join(basedir, 'extr_spec', datestr)\n",
    "images = songpipe.ImageList.from_filemask(join(rawdir, '*fits'), image_class=songpipe.HighLowImage)\n",
    "images.list()"
   ]
  },
  {
   "cell_type": "code",
   "execution_count": null,
   "id": "59897fa7",
   "metadata": {},
   "outputs": [],
   "source": []
  },
  {
   "cell_type": "code",
   "execution_count": 4,
   "id": "7e6ebb0b",
   "metadata": {
    "scrolled": true
   },
   "outputs": [
    {
     "name": "stdout",
     "output_type": "stream",
     "text": [
      "Filename                     Type  Exp  Object\n",
      "s3_2022-07-02T16-54-01.fits  BIAS  0.0  BIAS\n",
      "s3_2022-07-02T16-54-06.fits  BIAS  0.0  BIAS\n",
      "s3_2022-07-02T16-54-08.fits  BIAS  0.0  BIAS\n",
      "s3_2022-07-02T16-54-11.fits  BIAS  0.0  BIAS\n",
      "s3_2022-07-02T16-54-15.fits  BIAS  0.0  BIAS\n",
      "s3_2022-07-02T16-54-18.fits  BIAS  0.0  BIAS\n",
      "s3_2022-07-02T16-54-23.fits  BIAS  0.0  BIAS\n",
      "s3_2022-07-02T16-54-26.fits  BIAS  0.0  BIAS\n",
      "s3_2022-07-02T16-54-28.fits  BIAS  0.0  BIAS\n",
      "s3_2022-07-02T16-54-31.fits  BIAS  0.0  BIAS\n",
      "s3_2022-07-02T17-29-12.fits  BIAS  0.0  BIAS\n",
      "s3_2022-07-02T17-29-15.fits  BIAS  0.0  BIAS\n",
      "s3_2022-07-02T17-29-18.fits  BIAS  0.0  BIAS\n",
      "s3_2022-07-02T17-29-21.fits  BIAS  0.0  BIAS\n",
      "s3_2022-07-02T17-29-23.fits  BIAS  0.0  BIAS\n",
      "s3_2022-07-02T17-29-25.fits  BIAS  0.0  BIAS\n",
      "s3_2022-07-02T17-29-28.fits  BIAS  0.0  BIAS\n",
      "s3_2022-07-02T17-29-32.fits  BIAS  0.0  BIAS\n",
      "s3_2022-07-02T17-29-34.fits  BIAS  0.0  BIAS\n",
      "s3_2022-07-02T17-29-38.fits  BIAS  0.0  BIAS\n",
      "s3_2022-07-02T17-29-41.fits  BIAS  0.0  BIAS\n",
      "s3_2022-07-02T17-29-44.fits  BIAS  0.0  BIAS\n",
      "s3_2022-07-02T17-29-46.fits  BIAS  0.0  BIAS\n",
      "s3_2022-07-02T17-29-49.fits  BIAS  0.0  BIAS\n",
      "s3_2022-07-02T17-29-52.fits  BIAS  0.0  BIAS\n",
      "s3_2022-07-02T17-29-54.fits  BIAS  0.0  BIAS\n",
      "s3_2022-07-02T17-29-57.fits  BIAS  0.0  BIAS\n",
      "s3_2022-07-02T17-30-00.fits  BIAS  0.0  BIAS\n",
      "s3_2022-07-02T17-30-04.fits  BIAS  0.0  BIAS\n",
      "s3_2022-07-02T17-30-09.fits  BIAS  0.0  BIAS\n",
      "s3_2022-07-02T17-30-13.fits  BIAS  0.0  BIAS\n",
      "s3_2022-07-02T17-30-18.fits  BIAS  0.0  BIAS\n",
      "s3_2022-07-02T17-30-21.fits  BIAS  0.0  BIAS\n",
      "s3_2022-07-02T17-30-24.fits  BIAS  0.0  BIAS\n",
      "s3_2022-07-02T17-30-29.fits  BIAS  0.0  BIAS\n",
      "Combining 35 images using method \"median\".\n",
      "Loading FITS data from \"/mnt/c/data/SONG/ssmtkent/star_spec/20220702/raw/s3_2022-07-02T16-54-01.fits\" (ext 0)\n"
     ]
    },
    {
     "name": "stderr",
     "output_type": "stream",
     "text": [
      "  0%|                                                                                             | 0/4 [00:00<?, ?it/s]\n",
      "0it [00:00, ?it/s]\u001b[A\n",
      "1it [00:00,  2.31it/s]\u001b[A\n",
      "2it [00:00,  2.23it/s]\u001b[A\n",
      "3it [00:01,  2.40it/s]\u001b[A\n",
      "4it [00:01,  2.54it/s]\u001b[A\n",
      "5it [00:02,  2.56it/s]\u001b[A\n",
      "6it [00:02,  2.66it/s]\u001b[A\n",
      "7it [00:02,  2.76it/s]\u001b[A\n",
      "8it [00:03,  2.62it/s]\u001b[A\n",
      "9it [00:03,  2.42it/s]\u001b[A\n",
      "10it [00:04,  2.36it/s]\u001b[A\n",
      "11it [00:04,  2.19it/s]\u001b[A\n",
      "12it [00:05,  2.09it/s]\u001b[A\n",
      "13it [00:05,  2.01it/s]\u001b[A\n",
      "14it [00:06,  1.94it/s]\u001b[A\n",
      "15it [00:06,  2.07it/s]\u001b[A\n",
      "16it [00:06,  2.25it/s]\u001b[A\n",
      "17it [00:07,  2.43it/s]\u001b[A\n",
      "18it [00:07,  2.45it/s]\u001b[A\n",
      "19it [00:08,  2.42it/s]\u001b[A\n",
      "20it [00:08,  2.36it/s]\u001b[A\n",
      "21it [00:08,  2.49it/s]\u001b[A\n",
      "22it [00:09,  2.58it/s]\u001b[A\n",
      "23it [00:09,  2.65it/s]\u001b[A\n",
      "24it [00:10,  2.53it/s]\u001b[A\n",
      "25it [00:10,  2.46it/s]\u001b[A\n",
      "26it [00:10,  2.41it/s]\u001b[A\n",
      "27it [00:11,  2.38it/s]\u001b[A\n",
      "28it [00:11,  2.36it/s]\u001b[A\n",
      "29it [00:12,  2.37it/s]\u001b[A\n",
      "30it [00:12,  2.30it/s]\u001b[A\n",
      "31it [00:13,  2.28it/s]\u001b[A\n",
      "32it [00:13,  2.29it/s]\u001b[A\n",
      "33it [00:13,  2.43it/s]\u001b[A\n",
      "34it [00:14,  2.38it/s]\u001b[A\n",
      "35it [00:14,  2.23it/s]\u001b[A\n",
      " 25%|█████████████████████▎                                                               | 1/4 [00:18<00:55, 18.52s/it]\n",
      "0it [00:00, ?it/s]\u001b[A\n",
      "1it [00:00,  2.83it/s]\u001b[A\n",
      "2it [00:00,  2.74it/s]\u001b[A\n",
      "3it [00:01,  2.34it/s]\u001b[A\n",
      "4it [00:01,  2.14it/s]\u001b[A\n",
      "5it [00:02,  2.15it/s]\u001b[A\n",
      "6it [00:02,  2.21it/s]\u001b[A\n",
      "7it [00:03,  2.29it/s]\u001b[A\n",
      "8it [00:03,  2.28it/s]\u001b[A\n",
      "9it [00:03,  2.27it/s]\u001b[A\n",
      "10it [00:04,  2.22it/s]\u001b[A\n",
      "11it [00:04,  2.27it/s]\u001b[A\n",
      "12it [00:05,  2.28it/s]\u001b[A\n",
      "13it [00:05,  2.08it/s]\u001b[A\n",
      "14it [00:06,  1.93it/s]\u001b[A\n",
      "15it [00:07,  1.87it/s]\u001b[A\n",
      "16it [00:07,  1.85it/s]\u001b[A\n",
      "17it [00:08,  1.85it/s]\u001b[A\n",
      "18it [00:08,  1.84it/s]\u001b[A\n",
      "19it [00:09,  1.91it/s]\u001b[A\n",
      "20it [00:09,  2.03it/s]\u001b[A\n",
      "21it [00:10,  1.97it/s]\u001b[A\n",
      "22it [00:10,  1.89it/s]\u001b[A\n",
      "23it [00:11,  1.96it/s]\u001b[A\n",
      "24it [00:11,  2.04it/s]\u001b[A\n",
      "25it [00:12,  2.10it/s]\u001b[A\n",
      "26it [00:12,  2.12it/s]\u001b[A\n",
      "27it [00:12,  2.15it/s]\u001b[A\n",
      "28it [00:13,  2.18it/s]\u001b[A\n",
      "29it [00:13,  2.19it/s]\u001b[A\n",
      "30it [00:14,  2.19it/s]\u001b[A\n",
      "31it [00:14,  2.12it/s]\u001b[A\n",
      "32it [00:15,  2.08it/s]\u001b[A\n",
      "33it [00:15,  2.09it/s]\u001b[A\n",
      "34it [00:16,  2.07it/s]\u001b[A\n",
      "35it [00:16,  2.07it/s]\u001b[A\n",
      " 50%|██████████████████████████████████████████▌                                          | 2/4 [00:38<00:39, 19.60s/it]\n",
      "0it [00:00, ?it/s]\u001b[A\n",
      "1it [00:00,  2.53it/s]\u001b[A\n",
      "2it [00:00,  2.42it/s]\u001b[A\n",
      "3it [00:01,  2.29it/s]\u001b[A\n",
      "4it [00:01,  2.30it/s]\u001b[A\n",
      "5it [00:02,  2.32it/s]\u001b[A\n",
      "6it [00:02,  2.31it/s]\u001b[A\n",
      "7it [00:03,  2.31it/s]\u001b[A\n",
      "8it [00:03,  2.06it/s]\u001b[A\n",
      "9it [00:04,  1.90it/s]\u001b[A\n",
      "10it [00:04,  1.84it/s]\u001b[A\n",
      "11it [00:05,  1.64it/s]\u001b[A\n",
      "12it [00:06,  1.73it/s]\u001b[A\n",
      "13it [00:06,  1.83it/s]\u001b[A\n",
      "14it [00:06,  1.97it/s]\u001b[A\n",
      "15it [00:07,  2.09it/s]\u001b[A\n",
      "16it [00:07,  2.02it/s]\u001b[A\n",
      "17it [00:08,  1.96it/s]\u001b[A\n",
      "18it [00:09,  1.88it/s]\u001b[A\n",
      "19it [00:09,  1.86it/s]\u001b[A\n",
      "20it [00:10,  1.83it/s]\u001b[A\n",
      "21it [00:10,  1.84it/s]\u001b[A\n",
      "22it [00:11,  1.83it/s]\u001b[A\n",
      "23it [00:11,  1.85it/s]\u001b[A\n",
      "24it [00:12,  1.96it/s]\u001b[A\n",
      "25it [00:12,  2.06it/s]\u001b[A\n",
      "26it [00:13,  2.14it/s]\u001b[A\n",
      "27it [00:13,  2.24it/s]\u001b[A\n",
      "28it [00:13,  2.30it/s]\u001b[A\n",
      "29it [00:14,  2.32it/s]\u001b[A\n",
      "30it [00:14,  2.31it/s]\u001b[A\n",
      "31it [00:15,  2.24it/s]\u001b[A\n",
      "32it [00:15,  2.22it/s]\u001b[A\n",
      "33it [00:16,  2.23it/s]\u001b[A\n",
      "34it [00:16,  2.27it/s]\u001b[A\n",
      "35it [00:16,  2.23it/s]\u001b[A\n",
      " 75%|███████████████████████████████████████████████████████████████▊                     | 3/4 [00:59<00:20, 20.10s/it]\n",
      "0it [00:00, ?it/s]\u001b[A\n",
      "1it [00:00,  4.86it/s]\u001b[A\n",
      "2it [00:00,  4.50it/s]\u001b[A\n",
      "3it [00:00,  4.15it/s]\u001b[A\n",
      "4it [00:00,  4.12it/s]\u001b[A\n",
      "5it [00:01,  4.21it/s]\u001b[A\n",
      "6it [00:01,  4.16it/s]\u001b[A\n",
      "7it [00:01,  4.04it/s]\u001b[A\n",
      "8it [00:01,  3.95it/s]\u001b[A\n",
      "9it [00:02,  3.78it/s]\u001b[A\n",
      "10it [00:02,  3.66it/s]\u001b[A\n",
      "11it [00:02,  3.45it/s]\u001b[A\n",
      "12it [00:03,  3.36it/s]\u001b[A\n",
      "13it [00:03,  3.22it/s]\u001b[A\n",
      "14it [00:03,  3.14it/s]\u001b[A\n",
      "15it [00:04,  3.07it/s]\u001b[A\n",
      "16it [00:04,  3.01it/s]\u001b[A\n",
      "17it [00:04,  3.11it/s]\u001b[A\n",
      "18it [00:05,  3.27it/s]\u001b[A\n",
      "19it [00:05,  3.37it/s]\u001b[A\n",
      "20it [00:05,  3.50it/s]\u001b[A\n",
      "21it [00:05,  3.56it/s]\u001b[A\n",
      "22it [00:06,  3.56it/s]\u001b[A\n",
      "23it [00:06,  3.54it/s]\u001b[A\n",
      "24it [00:06,  3.49it/s]\u001b[A\n",
      "25it [00:07,  3.54it/s]\u001b[A\n",
      "26it [00:07,  3.66it/s]\u001b[A\n",
      "27it [00:07,  3.73it/s]\u001b[A\n",
      "28it [00:07,  3.74it/s]\u001b[A\n",
      "29it [00:08,  3.79it/s]\u001b[A\n",
      "30it [00:08,  3.88it/s]\u001b[A\n",
      "31it [00:08,  3.91it/s]\u001b[A\n",
      "32it [00:08,  3.87it/s]\u001b[A\n",
      "33it [00:09,  3.97it/s]\u001b[A\n",
      "34it [00:09,  4.02it/s]\u001b[A\n",
      "35it [00:09,  4.03it/s]\u001b[A\n",
      "100%|█████████████████████████████████████████████████████████████████████████████████████| 4/4 [01:11<00:00, 17.81s/it]\n",
      "  0%|                                                                                             | 0/4 [00:00<?, ?it/s]\n",
      "0it [00:00, ?it/s]\u001b[A\n",
      "1it [00:00,  2.63it/s]\u001b[A\n",
      "2it [00:00,  2.39it/s]\u001b[A\n",
      "3it [00:01,  2.44it/s]\u001b[A\n",
      "4it [00:01,  2.62it/s]\u001b[A\n",
      "5it [00:01,  2.64it/s]\u001b[A\n",
      "6it [00:02,  2.53it/s]\u001b[A\n",
      "7it [00:02,  2.42it/s]\u001b[A\n",
      "8it [00:03,  2.26it/s]\u001b[A\n",
      "9it [00:03,  2.10it/s]\u001b[A\n",
      "10it [00:04,  1.94it/s]\u001b[A\n",
      "11it [00:05,  1.83it/s]\u001b[A\n",
      "12it [00:05,  1.87it/s]\u001b[A\n",
      "13it [00:06,  1.99it/s]\u001b[A\n",
      "14it [00:06,  2.07it/s]\u001b[A\n",
      "15it [00:06,  2.14it/s]\u001b[A\n",
      "16it [00:07,  2.20it/s]\u001b[A\n",
      "17it [00:07,  2.26it/s]\u001b[A\n",
      "18it [00:08,  2.30it/s]\u001b[A\n",
      "19it [00:08,  2.16it/s]\u001b[A\n",
      "20it [00:09,  2.12it/s]\u001b[A\n",
      "21it [00:09,  2.15it/s]\u001b[A\n",
      "22it [00:10,  2.15it/s]\u001b[A\n",
      "23it [00:10,  2.12it/s]\u001b[A\n",
      "24it [00:11,  2.18it/s]\u001b[A\n",
      "25it [00:11,  2.18it/s]\u001b[A\n",
      "26it [00:11,  2.16it/s]\u001b[A\n",
      "27it [00:12,  2.21it/s]\u001b[A\n",
      "28it [00:12,  2.23it/s]\u001b[A\n",
      "29it [00:13,  2.23it/s]\u001b[A\n",
      "30it [00:13,  2.19it/s]\u001b[A\n",
      "31it [00:14,  2.21it/s]\u001b[A\n",
      "32it [00:14,  2.26it/s]\u001b[A\n",
      "33it [00:15,  2.29it/s]\u001b[A\n",
      "34it [00:15,  2.33it/s]\u001b[A\n",
      "35it [00:15,  2.35it/s]\u001b[A\n",
      " 25%|█████████████████████▎                                                               | 1/4 [00:19<00:57, 19.19s/it]\n",
      "0it [00:00, ?it/s]\u001b[A\n",
      "1it [00:00,  2.60it/s]\u001b[A\n",
      "2it [00:00,  2.50it/s]\u001b[A\n",
      "3it [00:01,  2.43it/s]\u001b[A\n",
      "4it [00:01,  2.43it/s]\u001b[A\n",
      "5it [00:02,  2.21it/s]\u001b[A\n",
      "6it [00:02,  2.31it/s]\u001b[A\n",
      "7it [00:03,  2.25it/s]\u001b[A\n",
      "8it [00:03,  2.11it/s]\u001b[A\n",
      "9it [00:04,  2.01it/s]\u001b[A\n",
      "10it [00:04,  1.80it/s]\u001b[A\n",
      "11it [00:05,  1.80it/s]\u001b[A\n",
      "12it [00:05,  1.80it/s]\u001b[A\n",
      "13it [00:06,  1.67it/s]\u001b[A\n",
      "14it [00:07,  1.74it/s]\u001b[A\n",
      "15it [00:07,  1.80it/s]\u001b[A\n",
      "16it [00:08,  1.86it/s]\u001b[A\n",
      "17it [00:08,  1.78it/s]\u001b[A\n",
      "18it [00:09,  1.75it/s]\u001b[A\n",
      "19it [00:09,  1.75it/s]\u001b[A\n",
      "20it [00:10,  1.74it/s]\u001b[A\n",
      "21it [00:11,  1.74it/s]\u001b[A\n",
      "22it [00:11,  1.76it/s]\u001b[A\n",
      "23it [00:12,  1.87it/s]\u001b[A\n",
      "24it [00:12,  2.00it/s]\u001b[A\n",
      "25it [00:12,  2.10it/s]\u001b[A\n",
      "26it [00:13,  2.17it/s]\u001b[A\n",
      "27it [00:13,  2.25it/s]\u001b[A\n",
      "28it [00:14,  2.32it/s]\u001b[A\n",
      "29it [00:14,  2.36it/s]\u001b[A\n",
      "30it [00:14,  2.40it/s]\u001b[A\n",
      "31it [00:15,  2.40it/s]\u001b[A\n",
      "32it [00:15,  2.40it/s]\u001b[A\n",
      "33it [00:16,  2.41it/s]\u001b[A\n",
      "34it [00:16,  2.41it/s]\u001b[A\n",
      "35it [00:17,  2.37it/s]\u001b[A\n",
      " 50%|██████████████████████████████████████████▌                                          | 2/4 [00:39<00:40, 20.13s/it]\n",
      "0it [00:00, ?it/s]\u001b[A\n",
      "1it [00:00,  2.39it/s]\u001b[A\n",
      "2it [00:00,  2.44it/s]\u001b[A\n",
      "3it [00:01,  2.54it/s]\u001b[A\n",
      "4it [00:01,  2.70it/s]\u001b[A\n",
      "5it [00:01,  2.56it/s]\u001b[A\n",
      "6it [00:02,  2.51it/s]\u001b[A\n",
      "7it [00:02,  2.33it/s]\u001b[A\n",
      "8it [00:03,  2.13it/s]\u001b[A\n",
      "9it [00:04,  1.88it/s]\u001b[A\n",
      "10it [00:04,  1.87it/s]\u001b[A\n",
      "11it [00:05,  1.84it/s]\u001b[A\n",
      "12it [00:05,  1.82it/s]\u001b[A\n",
      "13it [00:06,  1.76it/s]\u001b[A\n",
      "14it [00:06,  1.91it/s]\u001b[A\n",
      "15it [00:07,  1.98it/s]\u001b[A\n",
      "16it [00:07,  1.96it/s]\u001b[A\n",
      "17it [00:08,  1.90it/s]\u001b[A\n",
      "18it [00:08,  1.87it/s]\u001b[A\n",
      "19it [00:09,  1.92it/s]\u001b[A\n",
      "20it [00:09,  2.02it/s]\u001b[A\n",
      "21it [00:10,  2.13it/s]\u001b[A\n",
      "22it [00:10,  2.22it/s]\u001b[A\n",
      "23it [00:11,  2.30it/s]\u001b[A\n",
      "24it [00:11,  2.35it/s]\u001b[A\n",
      "25it [00:11,  2.38it/s]\u001b[A\n",
      "26it [00:12,  2.38it/s]\u001b[A\n",
      "27it [00:12,  2.39it/s]\u001b[A\n",
      "28it [00:13,  2.42it/s]\u001b[A\n",
      "29it [00:13,  2.51it/s]\u001b[A\n",
      "30it [00:13,  2.52it/s]\u001b[A\n",
      "31it [00:14,  2.52it/s]\u001b[A\n",
      "32it [00:14,  2.52it/s]\u001b[A\n",
      "33it [00:15,  2.50it/s]\u001b[A\n",
      "34it [00:15,  2.45it/s]\u001b[A\n",
      "35it [00:15,  2.44it/s]\u001b[A\n",
      " 75%|███████████████████████████████████████████████████████████████▊                     | 3/4 [00:59<00:19, 19.91s/it]\n",
      "0it [00:00, ?it/s]\u001b[A\n",
      "1it [00:00,  4.95it/s]\u001b[A\n",
      "2it [00:00,  4.84it/s]\u001b[A\n",
      "3it [00:00,  4.73it/s]\u001b[A\n",
      "4it [00:00,  4.66it/s]\u001b[A\n",
      "5it [00:01,  4.64it/s]\u001b[A\n",
      "6it [00:01,  4.65it/s]\u001b[A\n",
      "7it [00:01,  4.61it/s]\u001b[A\n",
      "8it [00:01,  4.61it/s]\u001b[A\n",
      "9it [00:01,  4.59it/s]\u001b[A\n",
      "10it [00:02,  4.57it/s]\u001b[A\n",
      "11it [00:02,  4.51it/s]\u001b[A\n",
      "12it [00:02,  4.24it/s]\u001b[A\n",
      "13it [00:02,  4.02it/s]\u001b[A\n",
      "14it [00:03,  3.82it/s]\u001b[A\n"
     ]
    },
    {
     "name": "stderr",
     "output_type": "stream",
     "text": [
      "15it [00:03,  3.69it/s]\u001b[A\n",
      "16it [00:03,  3.59it/s]\u001b[A\n",
      "17it [00:04,  3.53it/s]\u001b[A\n",
      "18it [00:04,  3.50it/s]\u001b[A\n",
      "19it [00:04,  3.48it/s]\u001b[A\n",
      "20it [00:04,  3.49it/s]\u001b[A\n",
      "21it [00:05,  3.45it/s]\u001b[A\n",
      "22it [00:05,  3.41it/s]\u001b[A\n",
      "23it [00:05,  3.40it/s]\u001b[A\n",
      "24it [00:06,  3.39it/s]\u001b[A\n",
      "25it [00:06,  3.49it/s]\u001b[A\n",
      "26it [00:06,  3.45it/s]\u001b[A\n",
      "27it [00:07,  3.44it/s]\u001b[A\n",
      "28it [00:07,  3.40it/s]\u001b[A\n",
      "29it [00:07,  3.33it/s]\u001b[A\n",
      "30it [00:07,  3.29it/s]\u001b[A\n",
      "31it [00:08,  3.27it/s]\u001b[A\n",
      "32it [00:08,  3.41it/s]\u001b[A\n",
      "33it [00:08,  3.57it/s]\u001b[A\n",
      "34it [00:09,  3.73it/s]\u001b[A\n",
      "35it [00:09,  3.91it/s]\u001b[A\n",
      "100%|█████████████████████████████████████████████████████████████████████████████████████| 4/4 [01:10<00:00, 17.67s/it]"
     ]
    },
    {
     "name": "stdout",
     "output_type": "stream",
     "text": [
      "Combine done!\n"
     ]
    },
    {
     "name": "stderr",
     "output_type": "stream",
     "text": [
      "\n"
     ]
    }
   ],
   "source": [
    "# Assemble master bias\n",
    "bias_list = images.filter(image_type='BIAS')\n",
    "bias_list.list()\n",
    "master_bias = bias_list.combine(method='median')"
   ]
  },
  {
   "cell_type": "code",
   "execution_count": 53,
   "id": "c472aed6",
   "metadata": {
    "scrolled": true
   },
   "outputs": [
    {
     "data": {
      "image/png": "[encoded data removed]",
      "text/plain": [
       "<Figure size 864x360 with 2 Axes>"
      ]
     },
     "metadata": {
      "needs_background": "light"
     },
     "output_type": "display_data"
    }
   ],
   "source": [
    "#master_bias.save_fits(join(outdir, 'calib/master_bias.fits'), overwrite=True)\n",
    "master_bias.hist(bins=np.arange(0,200))"
   ]
  },
  {
   "cell_type": "code",
   "execution_count": null,
   "id": "3e6eb7a2",
   "metadata": {},
   "outputs": [],
   "source": []
  },
  {
   "cell_type": "code",
   "execution_count": 25,
   "id": "6100c077",
   "metadata": {},
   "outputs": [
    {
     "name": "stdout",
     "output_type": "stream",
     "text": [
      "No darks available for exptime 1.0 s\n",
      "No darks available for exptime 2.5 s\n",
      "No darks available for exptime 3.0 s\n",
      "Combining 10.0 s master dark\n",
      "Combining 10 images using method \"median\".\n"
     ]
    },
    {
     "name": "stderr",
     "output_type": "stream",
     "text": [
      "100%|████████████████████████████████████████████████████████████████████████████████| 10/10 [00:00<00:00, 56375.05it/s]\n",
      "100%|███████████████████████████████████████████████████████████████████████████████| 10/10 [00:00<00:00, 100102.72it/s]\n"
     ]
    },
    {
     "name": "stdout",
     "output_type": "stream",
     "text": [
      "Combine done!\n",
      "Combining 20.0 s master dark\n",
      "Combining 10 images using method \"median\".\n"
     ]
    },
    {
     "name": "stderr",
     "output_type": "stream",
     "text": [
      "100%|████████████████████████████████████████████████████████████████████████████████| 10/10 [00:00<00:00, 68646.55it/s]\n",
      "100%|████████████████████████████████████████████████████████████████████████████████| 10/10 [00:00<00:00, 75846.37it/s]\n"
     ]
    },
    {
     "name": "stdout",
     "output_type": "stream",
     "text": [
      "Combine done!\n",
      "Combining 30.0 s master dark\n",
      "Combining 10 images using method \"median\".\n"
     ]
    },
    {
     "name": "stderr",
     "output_type": "stream",
     "text": [
      "100%|████████████████████████████████████████████████████████████████████████████████| 10/10 [00:00<00:00, 94679.55it/s]\n",
      "100%|████████████████████████████████████████████████████████████████████████████████| 10/10 [00:00<00:00, 62322.50it/s]\n"
     ]
    },
    {
     "name": "stdout",
     "output_type": "stream",
     "text": [
      "Combine done!\n",
      "Combining 60.0 s master dark\n",
      "Combining 10 images using method \"median\".\n"
     ]
    },
    {
     "name": "stderr",
     "output_type": "stream",
     "text": [
      "100%|██████████████████████████████████████████████████████████████████████████████████| 10/10 [00:00<00:00, 190.28it/s]"
     ]
    },
    {
     "name": "stdout",
     "output_type": "stream",
     "text": [
      "Loading FITS data from \"/mnt/c/data/SONG/ssmtkent/star_spec/20220702/raw/s3_2022-07-02T14-53-13.fits\" (ext 0)\n",
      "Loading FITS data from \"/mnt/c/data/SONG/ssmtkent/star_spec/20220702/raw/s3_2022-07-02T14-54-16.fits\" (ext 0)\n",
      "Loading FITS data from \"/mnt/c/data/SONG/ssmtkent/star_spec/20220702/raw/s3_2022-07-02T14-55-19.fits\" (ext 0)\n",
      "Loading FITS data from \"/mnt/c/data/SONG/ssmtkent/star_spec/20220702/raw/s3_2022-07-02T14-56-24.fits\" (ext 0)\n",
      "Loading FITS data from \"/mnt/c/data/SONG/ssmtkent/star_spec/20220702/raw/s3_2022-07-02T14-57-27.fits\" (ext 0)\n",
      "Loading FITS data from \"/mnt/c/data/SONG/ssmtkent/star_spec/20220702/raw/s3_2022-07-02T14-58-31.fits\" (ext 0)\n",
      "Loading FITS data from \"/mnt/c/data/SONG/ssmtkent/star_spec/20220702/raw/s3_2022-07-02T14-59-34.fits\" (ext 0)\n",
      "Loading FITS data from \"/mnt/c/data/SONG/ssmtkent/star_spec/20220702/raw/s3_2022-07-02T15-00-38.fits\" (ext 0)\n",
      "Loading FITS data from \"/mnt/c/data/SONG/ssmtkent/star_spec/20220702/raw/s3_2022-07-02T15-01-41.fits\" (ext 0)\n",
      "Loading FITS data from \"/mnt/c/data/SONG/ssmtkent/star_spec/20220702/raw/s3_2022-07-02T15-02-46.fits\" (ext 0)\n"
     ]
    },
    {
     "name": "stderr",
     "output_type": "stream",
     "text": [
      "\n",
      "100%|███████████████████████████████████████████████████████████████████████████████| 10/10 [00:00<00:00, 108660.73it/s]\n"
     ]
    },
    {
     "name": "stdout",
     "output_type": "stream",
     "text": [
      "Combine done!\n",
      "Combining 90.0 s master dark\n",
      "Combining 10 images using method \"median\".\n"
     ]
    },
    {
     "name": "stderr",
     "output_type": "stream",
     "text": [
      "100%|██████████████████████████████████████████████████████████████████████████████████| 10/10 [00:00<00:00, 133.50it/s]"
     ]
    },
    {
     "name": "stdout",
     "output_type": "stream",
     "text": [
      "Loading FITS data from \"/mnt/c/data/SONG/ssmtkent/star_spec/20220702/raw/s3_2022-07-02T15-04-13.fits\" (ext 0)\n",
      "Loading FITS data from \"/mnt/c/data/SONG/ssmtkent/star_spec/20220702/raw/s3_2022-07-02T15-05-46.fits\" (ext 0)\n",
      "Loading FITS data from \"/mnt/c/data/SONG/ssmtkent/star_spec/20220702/raw/s3_2022-07-02T15-07-20.fits\" (ext 0)\n",
      "Loading FITS data from \"/mnt/c/data/SONG/ssmtkent/star_spec/20220702/raw/s3_2022-07-02T15-08-54.fits\" (ext 0)\n",
      "Loading FITS data from \"/mnt/c/data/SONG/ssmtkent/star_spec/20220702/raw/s3_2022-07-02T15-10-28.fits\" (ext 0)\n",
      "Loading FITS data from \"/mnt/c/data/SONG/ssmtkent/star_spec/20220702/raw/s3_2022-07-02T15-12-03.fits\" (ext 0)\n",
      "Loading FITS data from \"/mnt/c/data/SONG/ssmtkent/star_spec/20220702/raw/s3_2022-07-02T15-13-37.fits\" (ext 0)\n",
      "Loading FITS data from \"/mnt/c/data/SONG/ssmtkent/star_spec/20220702/raw/s3_2022-07-02T15-15-11.fits\" (ext 0)\n",
      "Loading FITS data from \"/mnt/c/data/SONG/ssmtkent/star_spec/20220702/raw/s3_2022-07-02T15-16-44.fits\" (ext 0)\n",
      "Loading FITS data from \"/mnt/c/data/SONG/ssmtkent/star_spec/20220702/raw/s3_2022-07-02T15-18-18.fits\" (ext 0)\n"
     ]
    },
    {
     "name": "stderr",
     "output_type": "stream",
     "text": [
      "\n",
      "100%|███████████████████████████████████████████████████████████████████████████████| 10/10 [00:00<00:00, 111254.75it/s]\n"
     ]
    },
    {
     "name": "stdout",
     "output_type": "stream",
     "text": [
      "Combine done!\n",
      "Combining 120.0 s master dark\n",
      "Combining 10 images using method \"median\".\n"
     ]
    },
    {
     "name": "stderr",
     "output_type": "stream",
     "text": [
      "100%|███████████████████████████████████████████████████████████████████████████████████| 10/10 [00:00<00:00, 91.72it/s]"
     ]
    },
    {
     "name": "stdout",
     "output_type": "stream",
     "text": [
      "Loading FITS data from \"/mnt/c/data/SONG/ssmtkent/star_spec/20220702/raw/s3_2022-07-02T15-20-16.fits\" (ext 0)\n",
      "Loading FITS data from \"/mnt/c/data/SONG/ssmtkent/star_spec/20220702/raw/s3_2022-07-02T15-22-21.fits\" (ext 0)\n",
      "Loading FITS data from \"/mnt/c/data/SONG/ssmtkent/star_spec/20220702/raw/s3_2022-07-02T15-24-26.fits\" (ext 0)\n",
      "Loading FITS data from \"/mnt/c/data/SONG/ssmtkent/star_spec/20220702/raw/s3_2022-07-02T15-26-30.fits\" (ext 0)\n",
      "Loading FITS data from \"/mnt/c/data/SONG/ssmtkent/star_spec/20220702/raw/s3_2022-07-02T15-28-34.fits\" (ext 0)\n",
      "Loading FITS data from \"/mnt/c/data/SONG/ssmtkent/star_spec/20220702/raw/s3_2022-07-02T15-30-38.fits\" (ext 0)\n",
      "Loading FITS data from \"/mnt/c/data/SONG/ssmtkent/star_spec/20220702/raw/s3_2022-07-02T15-32-42.fits\" (ext 0)\n",
      "Loading FITS data from \"/mnt/c/data/SONG/ssmtkent/star_spec/20220702/raw/s3_2022-07-02T15-34-46.fits\" (ext 0)\n",
      "Loading FITS data from \"/mnt/c/data/SONG/ssmtkent/star_spec/20220702/raw/s3_2022-07-02T15-36-50.fits\" (ext 0)\n",
      "Loading FITS data from \"/mnt/c/data/SONG/ssmtkent/star_spec/20220702/raw/s3_2022-07-02T15-38-54.fits\" (ext 0)\n"
     ]
    },
    {
     "name": "stderr",
     "output_type": "stream",
     "text": [
      "\n",
      "100%|████████████████████████████████████████████████████████████████████████████████| 10/10 [00:00<00:00, 83551.87it/s]\n"
     ]
    },
    {
     "name": "stdout",
     "output_type": "stream",
     "text": [
      "Combine done!\n",
      "Combining 180.0 s master dark\n",
      "Combining 10 images using method \"median\".\n"
     ]
    },
    {
     "name": "stderr",
     "output_type": "stream",
     "text": [
      "100%|██████████████████████████████████████████████████████████████████████████████████| 10/10 [00:00<00:00, 167.02it/s]"
     ]
    },
    {
     "name": "stdout",
     "output_type": "stream",
     "text": [
      "Loading FITS data from \"/mnt/c/data/SONG/ssmtkent/star_spec/20220702/raw/s3_2022-07-02T15-41-22.fits\" (ext 0)\n",
      "Loading FITS data from \"/mnt/c/data/SONG/ssmtkent/star_spec/20220702/raw/s3_2022-07-02T15-44-27.fits\" (ext 0)\n",
      "Loading FITS data from \"/mnt/c/data/SONG/ssmtkent/star_spec/20220702/raw/s3_2022-07-02T15-47-31.fits\" (ext 0)\n",
      "Loading FITS data from \"/mnt/c/data/SONG/ssmtkent/star_spec/20220702/raw/s3_2022-07-02T15-50-35.fits\" (ext 0)\n",
      "Loading FITS data from \"/mnt/c/data/SONG/ssmtkent/star_spec/20220702/raw/s3_2022-07-02T15-53-40.fits\" (ext 0)\n",
      "Loading FITS data from \"/mnt/c/data/SONG/ssmtkent/star_spec/20220702/raw/s3_2022-07-02T15-56-44.fits\" (ext 0)\n",
      "Loading FITS data from \"/mnt/c/data/SONG/ssmtkent/star_spec/20220702/raw/s3_2022-07-02T15-59-48.fits\" (ext 0)\n",
      "Loading FITS data from \"/mnt/c/data/SONG/ssmtkent/star_spec/20220702/raw/s3_2022-07-02T16-02-52.fits\" (ext 0)\n",
      "Loading FITS data from \"/mnt/c/data/SONG/ssmtkent/star_spec/20220702/raw/s3_2022-07-02T16-05-57.fits\" (ext 0)\n",
      "Loading FITS data from \"/mnt/c/data/SONG/ssmtkent/star_spec/20220702/raw/s3_2022-07-02T16-09-01.fits\" (ext 0)\n"
     ]
    },
    {
     "name": "stderr",
     "output_type": "stream",
     "text": [
      "\n",
      "100%|███████████████████████████████████████████████████████████████████████████████| 10/10 [00:00<00:00, 103819.41it/s]\n"
     ]
    },
    {
     "name": "stdout",
     "output_type": "stream",
     "text": [
      "Combine done!\n",
      "Combining 240.0 s master dark\n",
      "Combining 12 images using method \"median\".\n"
     ]
    },
    {
     "name": "stderr",
     "output_type": "stream",
     "text": [
      "100%|██████████████████████████████████████████████████████████████████████████████████| 12/12 [00:00<00:00, 176.40it/s]"
     ]
    },
    {
     "name": "stdout",
     "output_type": "stream",
     "text": [
      "Loading FITS data from \"/mnt/c/data/SONG/ssmtkent/star_spec/20220702/raw/s3_2022-07-02T16-12-29.fits\" (ext 0)\n",
      "Loading FITS data from \"/mnt/c/data/SONG/ssmtkent/star_spec/20220702/raw/s3_2022-07-02T16-16-35.fits\" (ext 0)\n",
      "Loading FITS data from \"/mnt/c/data/SONG/ssmtkent/star_spec/20220702/raw/s3_2022-07-02T16-20-39.fits\" (ext 0)\n",
      "Loading FITS data from \"/mnt/c/data/SONG/ssmtkent/star_spec/20220702/raw/s3_2022-07-02T16-24-43.fits\" (ext 0)\n",
      "Loading FITS data from \"/mnt/c/data/SONG/ssmtkent/star_spec/20220702/raw/s3_2022-07-02T16-28-47.fits\" (ext 0)\n",
      "Loading FITS data from \"/mnt/c/data/SONG/ssmtkent/star_spec/20220702/raw/s3_2022-07-02T16-32-51.fits\" (ext 0)\n",
      "Loading FITS data from \"/mnt/c/data/SONG/ssmtkent/star_spec/20220702/raw/s3_2022-07-02T16-36-56.fits\" (ext 0)\n",
      "Loading FITS data from \"/mnt/c/data/SONG/ssmtkent/star_spec/20220702/raw/s3_2022-07-02T16-41-00.fits\" (ext 0)\n",
      "Loading FITS data from \"/mnt/c/data/SONG/ssmtkent/star_spec/20220702/raw/s3_2022-07-02T16-45-05.fits\" (ext 0)\n",
      "Loading FITS data from \"/mnt/c/data/SONG/ssmtkent/star_spec/20220702/raw/s3_2022-07-02T16-49-10.fits\" (ext 0)\n",
      "Loading FITS data from \"/mnt/c/data/SONG/ssmtkent/star_spec/20220702/raw/s3_2022-07-02T17-06-29.fits\" (ext 0)\n",
      "Loading FITS data from \"/mnt/c/data/SONG/ssmtkent/star_spec/20220702/raw/s3_2022-07-02T17-10-33.fits\" (ext 0)\n"
     ]
    },
    {
     "name": "stderr",
     "output_type": "stream",
     "text": [
      "\n",
      "100%|███████████████████████████████████████████████████████████████████████████████| 12/12 [00:00<00:00, 102508.45it/s]\n"
     ]
    },
    {
     "name": "stdout",
     "output_type": "stream",
     "text": [
      "Combine done!\n"
     ]
    }
   ],
   "source": [
    "# Combine dark image\n",
    "master_darks = {}  # Dict of darks for various exptimes\n",
    "exptimes = images.get_exptimes()\n",
    "# For each dark exptime, construct a master dark\n",
    "for exptime in exptimes:\n",
    "    dark_list = images.filter(image_type='DARK', exptime=exptime)\n",
    "    if len(dark_list) == 0:\n",
    "        print(f'No darks available for exptime {exptime} s')\n",
    "        continue\n",
    "    print(f'Building {exptime} s master dark')\n",
    "    master_darks[exptime] = dark_list.combine(method='median')\n",
    "    master_darks[exptime].subtract_bias(master_bias, inplace=True)  # Important!"
   ]
  },
  {
   "cell_type": "code",
   "execution_count": 29,
   "id": "62d1170a",
   "metadata": {},
   "outputs": [
    {
     "name": "stdout",
     "output_type": "stream",
     "text": [
      "File: /mnt/c/data/SONG/ssmtkent/star_spec/20220702/raw/s3_2022-07-02T17-15-41.fits\n",
      "Subtracting master bias...\n",
      "Subracting 240.0s master dark...\n",
      "Applying gain and merge high+low\n",
      "Orienting image\n",
      "Saving to /mnt/c/data/SONG/ssmtkent/extr_spec/20220702/prep/s3_2022-07-02T17-15-41_THArfib12_prep.fits...\n",
      "----\n",
      "File: /mnt/c/data/SONG/ssmtkent/star_spec/20220702/raw/s3_2022-07-02T17-19-47.fits\n",
      "Subtracting master bias...\n",
      "Subracting 240.0s master dark...\n",
      "Applying gain and merge high+low\n",
      "Orienting image\n",
      "Saving to /mnt/c/data/SONG/ssmtkent/extr_spec/20220702/prep/s3_2022-07-02T17-19-47_THArfib12_prep.fits...\n",
      "----\n"
     ]
    }
   ],
   "source": [
    "dark_exptimes = np.array([0] + list(master_darks.keys()))\n",
    "\n",
    "# Loop over all images except bias and darks\n",
    "loop_images = images.filter(exptime=240.0).images\n",
    "loop_images = [im for im in loop_images if im.type not in ('BIAS', 'DARK')]\n",
    "for im_orig in loop_images:\n",
    "    print(f'File: {im_orig.filename}')\n",
    "    print('Subtracting master bias...')\n",
    "    im = im_orig.subtract_bias(master_bias)\n",
    "\n",
    "    # Select master dark based on exptime\n",
    "    k = np.argmin(np.abs(dark_exptimes - im.exptime))\n",
    "    dark_exptime = dark_exptimes[k]\n",
    "    if dark_exptime > 0:\n",
    "        print(f'Subracting {dark_exptime}s master dark...')\n",
    "        im = im.subtract_dark(master_darks[dark_exptimes[k]])\n",
    "        \n",
    "    # Apply gain\n",
    "    print('Applying gain and merge high+low')\n",
    "    im = im.apply_gain()\n",
    "    merged = im.merge_high_low()\n",
    "    \n",
    "    # Orientation\n",
    "    print('Orienting image')\n",
    "    merged.orient(flip_updown=True, rotation=270)\n",
    "    \n",
    "    # Save image\n",
    "    fn = merged.construct_filename(suffix='prep')\n",
    "    merged.save_fits(join(outdir, 'prep', fn), overwrite=True)\n",
    "\n",
    "    print('----')"
   ]
  },
  {
   "cell_type": "code",
   "execution_count": null,
   "id": "3c5f19b1",
   "metadata": {},
   "outputs": [],
   "source": []
  },
  {
   "cell_type": "code",
   "execution_count": null,
   "id": "aec3c16a",
   "metadata": {},
   "outputs": [],
   "source": []
  },
  {
   "cell_type": "code",
   "execution_count": 41,
   "id": "335c5555",
   "metadata": {},
   "outputs": [
    {
     "name": "stdout",
     "output_type": "stream",
     "text": [
      "Slice 0:4096\n",
      "/mnt/c/data/SONG/ssmtkent/star_spec/20220702/raw/s3_2022-07-02T16-54-01.fits\n",
      "/mnt/c/data/SONG/ssmtkent/star_spec/20220702/raw/s3_2022-07-02T16-54-06.fits\n",
      "/mnt/c/data/SONG/ssmtkent/star_spec/20220702/raw/s3_2022-07-02T16-54-08.fits\n",
      "/mnt/c/data/SONG/ssmtkent/star_spec/20220702/raw/s3_2022-07-02T16-54-11.fits\n",
      "/mnt/c/data/SONG/ssmtkent/star_spec/20220702/raw/s3_2022-07-02T16-54-15.fits\n",
      "/mnt/c/data/SONG/ssmtkent/star_spec/20220702/raw/s3_2022-07-02T16-54-18.fits\n"
     ]
    },
    {
     "ename": "KeyboardInterrupt",
     "evalue": "",
     "output_type": "error",
     "traceback": [
      "\u001b[0;31m---------------------------------------------------------------------------\u001b[0m",
      "\u001b[0;31mKeyboardInterrupt\u001b[0m                         Traceback (most recent call last)",
      "Input \u001b[0;32mIn [41]\u001b[0m, in \u001b[0;36m<cell line: 17>\u001b[0;34m()\u001b[0m\n\u001b[1;32m     25\u001b[0m         \u001b[38;5;28;01mwith\u001b[39;00m fits\u001b[38;5;241m.\u001b[39mopen(im\u001b[38;5;241m.\u001b[39mfilename, memmap\u001b[38;5;241m=\u001b[39m\u001b[38;5;28;01mTrue\u001b[39;00m, cache\u001b[38;5;241m=\u001b[39m\u001b[38;5;28;01mFalse\u001b[39;00m) \u001b[38;5;28;01mas\u001b[39;00m h:  \u001b[38;5;66;03m# Open with memmap=True\u001b[39;00m\n\u001b[1;32m     26\u001b[0m             \u001b[38;5;28mprint\u001b[39m(im\u001b[38;5;241m.\u001b[39mfilename)\n\u001b[0;32m---> 27\u001b[0m             \u001b[43mx\u001b[49m\u001b[43m[\u001b[49m\u001b[43mi\u001b[49m\u001b[43m]\u001b[49m \u001b[38;5;241m=\u001b[39m h[\u001b[38;5;241m0\u001b[39m]\u001b[38;5;241m.\u001b[39mdata[start:stop,:]\n\u001b[1;32m     28\u001b[0m     result[start:stop, :] \u001b[38;5;241m=\u001b[39m np\u001b[38;5;241m.\u001b[39mmedian(x, axis\u001b[38;5;241m=\u001b[39m\u001b[38;5;241m0\u001b[39m)\n\u001b[1;32m     31\u001b[0m tend \u001b[38;5;241m=\u001b[39m time\u001b[38;5;241m.\u001b[39mperf_counter()\n",
      "\u001b[0;31mKeyboardInterrupt\u001b[0m: "
     ]
    }
   ],
   "source": [
    "import astropy.io.fits as fits\n",
    "import time\n",
    "import numpy as np\n",
    "\n",
    "bias_list = images.filter(image_type='BIAS')\n",
    "\n",
    "\n",
    "tstart = time.perf_counter()\n",
    "\n",
    "height, width = (4096, 4096)  # Image dimension\n",
    "n = len(bias_list)\n",
    "sliceheight = height // n * 10  # Allocate memory corresponding to 10 frames\n",
    "sliceheight = 5000\n",
    "result = np.zeros((height, width))\n",
    "\n",
    "# Loop over slices\n",
    "for k in range(0,height,sliceheight):\n",
    "    start = k\n",
    "    stop = min(k + sliceheight, height)\n",
    "    print(f\"Slice {start}:{stop}\")\n",
    "    \n",
    "    # Loop over images\n",
    "    x = np.zeros((n, stop-start, width))\n",
    "    for i,im in enumerate(bias_list.images):\n",
    "        with fits.open(im.filename, memmap=True, cache=False) as h:  # Open with memmap=True\n",
    "            print(im.filename)\n",
    "            x[i] = h[0].data[start:stop,:]\n",
    "    result[start:stop, :] = np.median(x, axis=0)\n",
    "\n",
    "\n",
    "tend = time.perf_counter()\n",
    "(tend-tstart)"
   ]
  },
  {
   "cell_type": "code",
   "execution_count": null,
   "id": "d726348f",
   "metadata": {},
   "outputs": [],
   "source": []
  },
  {
   "cell_type": "code",
   "execution_count": null,
   "id": "bef8d3db",
   "metadata": {},
   "outputs": [],
   "source": []
  },
  {
   "cell_type": "code",
   "execution_count": null,
   "id": "9b60195a",
   "metadata": {},
   "outputs": [],
   "source": []
  },
  {
   "cell_type": "code",
   "execution_count": 6,
   "id": "ec07e613",
   "metadata": {},
   "outputs": [
    {
     "data": {
      "text/plain": [
       "array([[1., 1., 1., 1., 1.],\n",
       "       [1., 1., 1., 1., 1.],\n",
       "       [1., 1., 1., 1., 1.],\n",
       "       [1., 1., 1., 1., 1.],\n",
       "       [1., 1., 1., 1., 1.]], dtype=float32)"
      ]
     },
     "execution_count": 6,
     "metadata": {},
     "output_type": "execute_result"
    }
   ],
   "source": []
  },
  {
   "cell_type": "code",
   "execution_count": 10,
   "id": "a06f3e41",
   "metadata": {},
   "outputs": [],
   "source": [
    "import astropy.io.fits as fits\n",
    "hdu = fits.PrimaryHDU(data=np.ones((5,5), dtype='float32'))"
   ]
  },
  {
   "cell_type": "code",
   "execution_count": 11,
   "id": "c3f01ca7",
   "metadata": {},
   "outputs": [
    {
     "data": {
      "text/plain": [
       "array([[1., 1., 1., 1., 1.],\n",
       "       [1., 1., 1., 1., 1.],\n",
       "       [1., 1., 1., 1., 1.],\n",
       "       [1., 1., 1., 1., 1.],\n",
       "       [1., 1., 1., 1., 1.]], dtype=float32)"
      ]
     },
     "execution_count": 11,
     "metadata": {},
     "output_type": "execute_result"
    }
   ],
   "source": [
    "hdu.data"
   ]
  },
  {
   "cell_type": "code",
   "execution_count": 14,
   "id": "ec5dc066",
   "metadata": {},
   "outputs": [],
   "source": [
    "fits.HDUList([hdu]).writeto('test.fits', overwrite=True)"
   ]
  },
  {
   "cell_type": "code",
   "execution_count": 44,
   "id": "8754749b",
   "metadata": {},
   "outputs": [],
   "source": [
    "reload(songpipe)\n",
    "dark = songpipe.HighLowImage(filename='/mnt/c/data/SONG/ssmtkent/extr_spec/20220702/calib/master_dark_240000ms.fits')"
   ]
  },
  {
   "cell_type": "code",
   "execution_count": 49,
   "id": "2875f7a4",
   "metadata": {},
   "outputs": [],
   "source": [
    "high_gain_image = songpipe.Image(data=dark.high_gain_image.data.astype('float32'))\n",
    "low_gain_image = songpipe.Image(data=dark.low_gain_image.data.astype('float32'))\n",
    "dark2 = songpipe.HighLowImage(high_gain_image, low_gain_image)"
   ]
  },
  {
   "cell_type": "code",
   "execution_count": 51,
   "id": "4b12a9bc",
   "metadata": {},
   "outputs": [
    {
     "name": "stdout",
     "output_type": "stream",
     "text": [
      "Saving to /mnt/c/data/SONG/ssmtkent/extr_spec/20220702/calib/master_dark_240000ms_32bit.fits...\n"
     ]
    }
   ],
   "source": [
    "dark2.save_fits('/mnt/c/data/SONG/ssmtkent/extr_spec/20220702/calib/master_dark_240000ms_32bit.fits')"
   ]
  },
  {
   "cell_type": "code",
   "execution_count": null,
   "id": "ecd5e958",
   "metadata": {},
   "outputs": [],
   "source": []
  },
  {
   "cell_type": "code",
   "execution_count": null,
   "id": "70286ff5",
   "metadata": {},
   "outputs": [],
   "source": []
  },
  {
   "cell_type": "code",
   "execution_count": null,
   "id": "1053cf9a",
   "metadata": {},
   "outputs": [],
   "source": []
  }
 ],
 "metadata": {
  "kernelspec": {
   "display_name": "Python 3 (ipykernel)",
   "language": "python",
   "name": "python3"
  },
  "language_info": {
   "codemirror_mode": {
    "name": "ipython",
    "version": 3
   },
   "file_extension": ".py",
   "mimetype": "text/x-python",
   "name": "python",
   "nbconvert_exporter": "python",
   "pygments_lexer": "ipython3",
   "version": "3.8.2"
  }
 },
 "nbformat": 4,
 "nbformat_minor": 5
}
